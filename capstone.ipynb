{
 "cells": [
  {
   "cell_type": "code",
   "execution_count": 1,
   "id": "91fed4c0",
   "metadata": {
    "scrolled": false
   },
   "outputs": [],
   "source": [
    "import pandas as pd\n",
    "import numpy as np\n",
    "import matplotlib.pyplot as plt\n",
    "import seaborn as sns\n",
    "from sklearn.model_selection import train_test_split, GridSearchCV\n",
    "from sklearn.ensemble import RandomForestClassifier\n",
    "from sklearn.metrics import classification_report, roc_auc_score, confusion_matrix, roc_curve\n",
    "import joblib\n"
   ]
  },
  {
   "cell_type": "code",
   "execution_count": 2,
   "id": "3744f836",
   "metadata": {},
   "outputs": [
    {
     "name": "stdout",
     "output_type": "stream",
     "text": [
      "          time  y        x1        x2        x3         x4        x5  \\\n",
      "0  5-1-99 0:00  0  0.376665 -4.596435 -4.095756  13.497687 -0.118830   \n",
      "1  5-1-99 0:02  0  0.475720 -4.542502 -4.018359  16.230659 -0.128733   \n",
      "2  5-1-99 0:04  0  0.363848 -4.681394 -4.353147  14.127997 -0.138636   \n",
      "3  5-1-99 0:06  0  0.301590 -4.758934 -4.023612  13.161566 -0.148142   \n",
      "4  5-1-99 0:08  0  0.265578 -4.749928 -4.333150  15.267340 -0.155314   \n",
      "\n",
      "          x6        x7        x8  ...        x51        x52       x54  \\\n",
      "0 -20.669883  0.000732 -0.061114  ...  29.984624  10.091721 -4.936434   \n",
      "1 -18.758079  0.000732 -0.061114  ...  29.984624  10.095871 -4.937179   \n",
      "2 -17.836632  0.010803 -0.061114  ...  29.984624  10.100265 -4.937924   \n",
      "3 -18.517601  0.002075 -0.061114  ...  29.984624  10.104660 -4.938669   \n",
      "4 -17.505913  0.000732 -0.061114  ...  29.984624  10.109054 -4.939414   \n",
      "\n",
      "         x55        x56       x57       x58       x59       x60  y.1  \n",
      "0 -24.590146  18.515436  3.473400  0.033444  0.953219  0.006076    0  \n",
      "1 -32.413266  22.760065  2.682933  0.033536  1.090502  0.006083    0  \n",
      "2 -34.183774  27.004663  3.537487  0.033629  1.840540  0.006090    0  \n",
      "3 -35.954281  21.672449  3.986095  0.033721  2.554880  0.006097    0  \n",
      "4 -37.724789  21.907251  3.601573  0.033777  1.410494  0.006105    0  \n",
      "\n",
      "[5 rows x 62 columns]\n",
      "time    0\n",
      "y       0\n",
      "x1      0\n",
      "x2      0\n",
      "x3      0\n",
      "       ..\n",
      "x57     0\n",
      "x58     0\n",
      "x59     0\n",
      "x60     0\n",
      "y.1     0\n",
      "Length: 62, dtype: int64\n",
      "                  y            x1            x2            x3            x4  \\\n",
      "count  18398.000000  18398.000000  18398.000000  18398.000000  18398.000000   \n",
      "mean       0.006740      0.011824      0.157986      0.569300     -9.958345   \n",
      "std        0.081822      0.742875      4.939762      5.937178    131.033712   \n",
      "min        0.000000     -3.787279    -17.316550    -18.198509   -322.781610   \n",
      "25%        0.000000     -0.405681     -2.158235     -3.537054   -111.378372   \n",
      "50%        0.000000      0.128245     -0.075505     -0.190683    -14.881585   \n",
      "75%        0.000000      0.421222      2.319297      3.421223     92.199134   \n",
      "max        1.000000      3.054156     16.742105     15.900116    334.694098   \n",
      "\n",
      "                 x5            x6            x7            x8            x9  \\\n",
      "count  18398.000000  18398.000000  18398.000000  18398.000000  18398.000000   \n",
      "mean       0.006518      2.387533      0.001647     -0.004125     -0.003056   \n",
      "std        0.634054     37.104012      0.108870      0.075460      0.156047   \n",
      "min       -1.623988   -279.408440     -0.429273     -0.451141     -0.120087   \n",
      "25%       -0.446787    -24.345268     -0.058520     -0.051043     -0.059966   \n",
      "50%       -0.120745     10.528435     -0.009338     -0.000993     -0.030057   \n",
      "75%        0.325152     32.172974      0.060515      0.038986      0.001990   \n",
      "max        4.239385     96.060768      1.705590      0.788826      4.060033   \n",
      "\n",
      "       ...           x51           x52           x54           x55  \\\n",
      "count  ...  18398.000000  18398.000000  18398.000000  18398.000000   \n",
      "mean   ...     -3.357339      0.380519      0.173708      2.379154   \n",
      "std    ...    348.256716      6.211598      3.029516     67.940694   \n",
      "min    ...  -3652.989000   -187.943440     -8.210370   -230.574030   \n",
      "25%    ...     29.984624     -3.672684      0.487780    -40.050046   \n",
      "50%    ...     29.984624      0.294846      0.702299     17.471317   \n",
      "75%    ...     29.984624      5.109543      2.675751     44.093387   \n",
      "max    ...     40.152348     14.180588      6.637265    287.252017   \n",
      "\n",
      "                x56           x57           x58           x59           x60  \\\n",
      "count  18398.000000  18398.000000  18398.000000  18398.000000  18398.000000   \n",
      "mean       9.234953      0.233493     -0.001861     -0.061522      0.001258   \n",
      "std       81.274103      2.326838      0.048732     10.394085      0.004721   \n",
      "min     -269.039500    -12.640370     -0.149790   -100.810500     -0.012229   \n",
      "25%      -45.519149     -1.598804      0.000470      0.295023     -0.001805   \n",
      "50%        1.438806      0.085826      0.012888      0.734591      0.000710   \n",
      "75%       63.209681      2.222118      0.020991      1.266506      0.004087   \n",
      "max      252.147455      6.922008      0.067249      6.985460      0.020510   \n",
      "\n",
      "                y.1  \n",
      "count  18398.000000  \n",
      "mean       0.001033  \n",
      "std        0.032120  \n",
      "min        0.000000  \n",
      "25%        0.000000  \n",
      "50%        0.000000  \n",
      "75%        0.000000  \n",
      "max        1.000000  \n",
      "\n",
      "[8 rows x 61 columns]\n",
      "y\n",
      "0    18274\n",
      "1      124\n",
      "Name: count, dtype: int64\n"
     ]
    },
    {
     "data": {
      "image/png": "[encoded data removed]",
      "text/plain": [
       "<Figure size 640x480 with 1 Axes>"
      ]
     },
     "metadata": {},
     "output_type": "display_data"
    }
   ],
   "source": [
    "# Load the dataset\n",
    "data = pd.read_csv('AnomaData.csv')\n",
    "\n",
    "# Display the first few rows\n",
    "print(data.head())\n",
    "\n",
    "# Check for missing values\n",
    "print(data.isnull().sum())\n",
    "\n",
    "# Basic statistics\n",
    "print(data.describe())\n",
    "\n",
    "# Class distribution\n",
    "print(data['y'].value_counts())\n",
    "sns.countplot(data['y'])\n",
    "plt.title(\"Class Distribution (Anomalies vs Normal)\")\n",
    "plt.show()\n"
   ]
  },
  {
   "cell_type": "code",
   "execution_count": 3,
   "id": "3e6e7651",
   "metadata": {},
   "outputs": [
    {
     "name": "stdout",
     "output_type": "stream",
     "text": [
      "time     object\n",
      "y         int64\n",
      "x1      float64\n",
      "x2      float64\n",
      "x3      float64\n",
      "         ...   \n",
      "x57     float64\n",
      "x58     float64\n",
      "x59     float64\n",
      "x60     float64\n",
      "y.1       int64\n",
      "Length: 62, dtype: object\n",
      "Non-numeric columns: Index(['time'], dtype='object')\n"
     ]
    }
   ],
   "source": [
    "# Check data types of all columns\n",
    "print(data.dtypes)\n",
    "\n",
    "# Find columns that are not numeric\n",
    "non_numeric_cols = data.select_dtypes(exclude=[np.number]).columns\n",
    "print(\"Non-numeric columns:\", non_numeric_cols)\n"
   ]
  },
  {
   "cell_type": "code",
   "execution_count": 4,
   "id": "c332a500",
   "metadata": {},
   "outputs": [],
   "source": [
    "# Convert date columns to datetime, if applicable\n",
    "if 'date_column_name' in data.columns:\n",
    "    data['date_column_name'] = pd.to_datetime(data['date_column_name'], errors='coerce')\n",
    "\n",
    "# Drop or encode categorical columns\n",
    "for col in non_numeric_cols:\n",
    "    if data[col].nunique() < 10:  # If few unique values, use one-hot encoding\n",
    "        data = pd.get_dummies(data, columns=[col], drop_first=True)\n",
    "    else:  # If many unique values, use label encoding\n",
    "        from sklearn.preprocessing import LabelEncoder\n",
    "        le = LabelEncoder()\n",
    "        data[col] = le.fit_transform(data[col].astype(str))\n"
   ]
  },
  {
   "cell_type": "code",
   "execution_count": 5,
   "id": "c1bdb510",
   "metadata": {},
   "outputs": [],
   "source": [
    "# Fill missing values with column mean\n",
    "data.fillna(data.mean(), inplace=True)\n"
   ]
  },
  {
   "cell_type": "code",
   "execution_count": 6,
   "id": "a171aa5e",
   "metadata": {},
   "outputs": [
    {
     "name": "stdout",
     "output_type": "stream",
     "text": [
      "time      int32\n",
      "y         int64\n",
      "x1      float64\n",
      "x2      float64\n",
      "x3      float64\n",
      "         ...   \n",
      "x57     float64\n",
      "x58     float64\n",
      "x59     float64\n",
      "x60     float64\n",
      "y.1       int64\n",
      "Length: 62, dtype: object\n",
      "time    0\n",
      "y       0\n",
      "x1      0\n",
      "x2      0\n",
      "x3      0\n",
      "       ..\n",
      "x57     0\n",
      "x58     0\n",
      "x59     0\n",
      "x60     0\n",
      "y.1     0\n",
      "Length: 62, dtype: int64\n"
     ]
    }
   ],
   "source": [
    "# Confirm all columns are numeric\n",
    "print(data.dtypes)\n",
    "\n",
    "# Check for any remaining missing values\n",
    "print(data.isnull().sum())\n"
   ]
  },
  {
   "cell_type": "code",
   "execution_count": 7,
   "id": "06db4ed9",
   "metadata": {},
   "outputs": [],
   "source": [
    "from sklearn.preprocessing import StandardScaler\n",
    "\n",
    "scaler = StandardScaler()\n",
    "X = scaler.fit_transform(data.drop(columns=['y']))  # Exclude target column\n",
    "y = data['y']\n"
   ]
  },
  {
   "cell_type": "code",
   "execution_count": 8,
   "id": "78b1f30a",
   "metadata": {},
   "outputs": [],
   "source": [
    "X_train, X_test, y_train, y_test = train_test_split(X, y, test_size=0.2, random_state=42, stratify=y)\n"
   ]
  },
  {
   "cell_type": "code",
   "execution_count": 9,
   "id": "e254edef",
   "metadata": {},
   "outputs": [
    {
     "name": "stdout",
     "output_type": "stream",
     "text": [
      "Fitting 5 folds for each of 81 candidates, totalling 405 fits\n",
      "Best Parameters: {'max_depth': 20, 'min_samples_leaf': 2, 'min_samples_split': 10, 'n_estimators': 300}\n"
     ]
    }
   ],
   "source": [
    "# Initialize Random Forest Classifier\n",
    "rf_model = RandomForestClassifier(random_state=42)\n",
    "\n",
    "# Hyperparameter tuning using GridSearchCV\n",
    "param_grid = {\n",
    "    'n_estimators': [100, 200, 300],\n",
    "    'max_depth': [5, 10, 20],\n",
    "    'min_samples_split': [2, 5, 10],\n",
    "    'min_samples_leaf': [1, 2, 4]\n",
    "}\n",
    "grid_search = GridSearchCV(rf_model, param_grid, cv=5, scoring='roc_auc', n_jobs=-1, verbose=2)\n",
    "grid_search.fit(X_train, y_train)\n",
    "\n",
    "# Best model\n",
    "best_model = grid_search.best_estimator_\n",
    "print(\"Best Parameters:\", grid_search.best_params_)\n"
   ]
  },
  {
   "cell_type": "code",
   "execution_count": 10,
   "id": "b5bce400",
   "metadata": {},
   "outputs": [
    {
     "name": "stdout",
     "output_type": "stream",
     "text": [
      "Classification Report:\n",
      "               precision    recall  f1-score   support\n",
      "\n",
      "           0       1.00      1.00      1.00      3655\n",
      "           1       0.89      0.68      0.77        25\n",
      "\n",
      "    accuracy                           1.00      3680\n",
      "   macro avg       0.95      0.84      0.89      3680\n",
      "weighted avg       1.00      1.00      1.00      3680\n",
      "\n",
      "ROC AUC Score: 0.9824459644322846\n"
     ]
    },
    {
     "data": {
      "image/png": "[encoded data removed]",
      "text/plain": [
       "<Figure size 640x480 with 2 Axes>"
      ]
     },
     "metadata": {},
     "output_type": "display_data"
    },
    {
     "data": {
      "image/png": "[encoded data removed]",
      "text/plain": [
       "<Figure size 640x480 with 1 Axes>"
      ]
     },
     "metadata": {},
     "output_type": "display_data"
    }
   ],
   "source": [
    "# Predictions\n",
    "y_pred = best_model.predict(X_test)\n",
    "y_prob = best_model.predict_proba(X_test)[:, 1]\n",
    "\n",
    "# Performance metrics\n",
    "print(\"Classification Report:\\n\", classification_report(y_test, y_pred))\n",
    "print(\"ROC AUC Score:\", roc_auc_score(y_test, y_prob))\n",
    "\n",
    "# Confusion Matrix\n",
    "conf_matrix = confusion_matrix(y_test, y_pred)\n",
    "sns.heatmap(conf_matrix, annot=True, fmt='d', cmap='Blues')\n",
    "plt.title(\"Confusion Matrix\")\n",
    "plt.show()\n",
    "\n",
    "# ROC Curve\n",
    "fpr, tpr, thresholds = roc_curve(y_test, y_prob)\n",
    "plt.plot(fpr, tpr, label=\"ROC Curve (AUC = {:.2f})\".format(roc_auc_score(y_test, y_prob)))\n",
    "plt.plot([0, 1], [0, 1], linestyle='--', color='gray')\n",
    "plt.xlabel(\"False Positive Rate\")\n",
    "plt.ylabel(\"True Positive Rate\")\n",
    "plt.title(\"ROC Curve\")\n",
    "plt.legend()\n",
    "plt.show()\n"
   ]
  },
  {
   "cell_type": "code",
   "execution_count": 11,
   "id": "d7c99267",
   "metadata": {},
   "outputs": [
    {
     "name": "stdout",
     "output_type": "stream",
     "text": [
      "Model saved as 'anomaly_detector_model.pkl'\n"
     ]
    }
   ],
   "source": [
    "# Save the trained model\n",
    "joblib.dump(best_model, 'anomaly_detector_model.pkl')\n",
    "print(\"Model saved as 'anomaly_detector_model.pkl'\")\n"
   ]
  },
  {
   "cell_type": "code",
   "execution_count": 12,
   "id": "0f16380c",
   "metadata": {},
   "outputs": [
    {
     "name": "stdout",
     "output_type": "stream",
     "text": [
      "Predicted Class: [0]\n"
     ]
    }
   ],
   "source": [
    "# Load and use the saved model\n",
    "loaded_model = joblib.load('anomaly_detector_model.pkl')\n",
    "\n",
    "# Example prediction\n",
    "sample_data = X_test[0].reshape(1, -1)\n",
    "prediction = loaded_model.predict(sample_data)\n",
    "print(\"Predicted Class:\", prediction)\n"
   ]
  },
  {
   "cell_type": "code",
   "execution_count": null,
   "id": "28ef8c0d",
   "metadata": {},
   "outputs": [],
   "source": []
  }
 ],
 "metadata": {
  "kernelspec": {
   "display_name": "Python 3 (ipykernel)",
   "language": "python",
   "name": "python3"
  },
  "language_info": {
   "codemirror_mode": {
    "name": "ipython",
    "version": 3
   },
   "file_extension": ".py",
   "mimetype": "text/x-python",
   "name": "python",
   "nbconvert_exporter": "python",
   "pygments_lexer": "ipython3",
   "version": "3.11.5"
  }
 },
 "nbformat": 4,
 "nbformat_minor": 5
}
